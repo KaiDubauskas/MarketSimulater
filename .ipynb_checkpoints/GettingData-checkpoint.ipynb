{
 "cells": [
  {
   "cell_type": "code",
   "execution_count": 2,
   "id": "a2121635",
   "metadata": {},
   "outputs": [],
   "source": [
    "import yfinance as yf\n",
    "import pandas as pd"
   ]
  },
  {
   "cell_type": "code",
   "execution_count": 30,
   "id": "a79c15ec",
   "metadata": {},
   "outputs": [],
   "source": [
    "pd.set_option('display.max_rows', 5)"
   ]
  },
  {
   "cell_type": "code",
   "execution_count": 31,
   "id": "12bb4aa6",
   "metadata": {},
   "outputs": [
    {
     "name": "stdout",
     "output_type": "stream",
     "text": [
      "[*********************100%***********************]  1 of 1 completed\n"
     ]
    },
    {
     "data": {
      "text/html": [
       "<div>\n",
       "<style scoped>\n",
       "    .dataframe tbody tr th:only-of-type {\n",
       "        vertical-align: middle;\n",
       "    }\n",
       "\n",
       "    .dataframe tbody tr th {\n",
       "        vertical-align: top;\n",
       "    }\n",
       "\n",
       "    .dataframe thead th {\n",
       "        text-align: right;\n",
       "    }\n",
       "</style>\n",
       "<table border=\"1\" class=\"dataframe\">\n",
       "  <thead>\n",
       "    <tr style=\"text-align: right;\">\n",
       "      <th></th>\n",
       "      <th>Open</th>\n",
       "      <th>High</th>\n",
       "      <th>Low</th>\n",
       "      <th>Close</th>\n",
       "      <th>Adj Close</th>\n",
       "      <th>Volume</th>\n",
       "    </tr>\n",
       "    <tr>\n",
       "      <th>Datetime</th>\n",
       "      <th></th>\n",
       "      <th></th>\n",
       "      <th></th>\n",
       "      <th></th>\n",
       "      <th></th>\n",
       "      <th></th>\n",
       "    </tr>\n",
       "  </thead>\n",
       "  <tbody>\n",
       "    <tr>\n",
       "      <th>2023-05-22 09:30:00</th>\n",
       "      <td>173.979996</td>\n",
       "      <td>174.710007</td>\n",
       "      <td>173.649994</td>\n",
       "      <td>174.250000</td>\n",
       "      <td>174.250000</td>\n",
       "      <td>5363774</td>\n",
       "    </tr>\n",
       "    <tr>\n",
       "      <th>2023-05-22 09:45:00</th>\n",
       "      <td>174.225006</td>\n",
       "      <td>174.679993</td>\n",
       "      <td>173.985001</td>\n",
       "      <td>174.019897</td>\n",
       "      <td>174.019897</td>\n",
       "      <td>2494952</td>\n",
       "    </tr>\n",
       "    <tr>\n",
       "      <th>...</th>\n",
       "      <td>...</td>\n",
       "      <td>...</td>\n",
       "      <td>...</td>\n",
       "      <td>...</td>\n",
       "      <td>...</td>\n",
       "      <td>...</td>\n",
       "    </tr>\n",
       "    <tr>\n",
       "      <th>2023-06-16 15:30:00</th>\n",
       "      <td>184.919998</td>\n",
       "      <td>185.100006</td>\n",
       "      <td>184.710098</td>\n",
       "      <td>184.737900</td>\n",
       "      <td>184.737900</td>\n",
       "      <td>2358242</td>\n",
       "    </tr>\n",
       "    <tr>\n",
       "      <th>2023-06-16 15:45:00</th>\n",
       "      <td>184.735001</td>\n",
       "      <td>185.350006</td>\n",
       "      <td>184.270004</td>\n",
       "      <td>185.020004</td>\n",
       "      <td>185.020004</td>\n",
       "      <td>5864734</td>\n",
       "    </tr>\n",
       "  </tbody>\n",
       "</table>\n",
       "<p>494 rows × 6 columns</p>\n",
       "</div>"
      ],
      "text/plain": [
       "                           Open        High         Low       Close  \\\n",
       "Datetime                                                              \n",
       "2023-05-22 09:30:00  173.979996  174.710007  173.649994  174.250000   \n",
       "2023-05-22 09:45:00  174.225006  174.679993  173.985001  174.019897   \n",
       "...                         ...         ...         ...         ...   \n",
       "2023-06-16 15:30:00  184.919998  185.100006  184.710098  184.737900   \n",
       "2023-06-16 15:45:00  184.735001  185.350006  184.270004  185.020004   \n",
       "\n",
       "                      Adj Close   Volume  \n",
       "Datetime                                  \n",
       "2023-05-22 09:30:00  174.250000  5363774  \n",
       "2023-05-22 09:45:00  174.019897  2494952  \n",
       "...                         ...      ...  \n",
       "2023-06-16 15:30:00  184.737900  2358242  \n",
       "2023-06-16 15:45:00  185.020004  5864734  \n",
       "\n",
       "[494 rows x 6 columns]"
      ]
     },
     "execution_count": 31,
     "metadata": {},
     "output_type": "execute_result"
    }
   ],
   "source": [
    "dataF = yf.download(\"AAPL\", start=\"2023-5-20\", end=\"2023-6-20\", interval='15m')\n",
    "dataF"
   ]
  },
  {
   "cell_type": "code",
   "execution_count": 32,
   "id": "f3682c5e",
   "metadata": {},
   "outputs": [
    {
     "data": {
      "text/html": [
       "<div>\n",
       "<style scoped>\n",
       "    .dataframe tbody tr th:only-of-type {\n",
       "        vertical-align: middle;\n",
       "    }\n",
       "\n",
       "    .dataframe tbody tr th {\n",
       "        vertical-align: top;\n",
       "    }\n",
       "\n",
       "    .dataframe thead th {\n",
       "        text-align: right;\n",
       "    }\n",
       "</style>\n",
       "<table border=\"1\" class=\"dataframe\">\n",
       "  <thead>\n",
       "    <tr style=\"text-align: right;\">\n",
       "      <th></th>\n",
       "      <th>Open</th>\n",
       "      <th>High</th>\n",
       "      <th>Low</th>\n",
       "      <th>Close</th>\n",
       "      <th>Adj Close</th>\n",
       "      <th>Volume</th>\n",
       "    </tr>\n",
       "    <tr>\n",
       "      <th>Datetime</th>\n",
       "      <th></th>\n",
       "      <th></th>\n",
       "      <th></th>\n",
       "      <th></th>\n",
       "      <th></th>\n",
       "      <th></th>\n",
       "    </tr>\n",
       "  </thead>\n",
       "  <tbody>\n",
       "    <tr>\n",
       "      <th>2023-06-16 15:30:00</th>\n",
       "      <td>184.919998</td>\n",
       "      <td>185.100006</td>\n",
       "      <td>184.710098</td>\n",
       "      <td>184.737900</td>\n",
       "      <td>184.737900</td>\n",
       "      <td>2358242</td>\n",
       "    </tr>\n",
       "    <tr>\n",
       "      <th>2023-06-16 15:45:00</th>\n",
       "      <td>184.735001</td>\n",
       "      <td>185.350006</td>\n",
       "      <td>184.270004</td>\n",
       "      <td>185.020004</td>\n",
       "      <td>185.020004</td>\n",
       "      <td>5864734</td>\n",
       "    </tr>\n",
       "  </tbody>\n",
       "</table>\n",
       "</div>"
      ],
      "text/plain": [
       "                           Open        High         Low       Close  \\\n",
       "Datetime                                                              \n",
       "2023-06-16 15:30:00  184.919998  185.100006  184.710098  184.737900   \n",
       "2023-06-16 15:45:00  184.735001  185.350006  184.270004  185.020004   \n",
       "\n",
       "                      Adj Close   Volume  \n",
       "Datetime                                  \n",
       "2023-06-16 15:30:00  184.737900  2358242  \n",
       "2023-06-16 15:45:00  185.020004  5864734  "
      ]
     },
     "execution_count": 32,
     "metadata": {},
     "output_type": "execute_result"
    }
   ],
   "source": [
    "dataF.tail(2)"
   ]
  },
  {
   "cell_type": "code",
   "execution_count": 33,
   "id": "d0922318",
   "metadata": {},
   "outputs": [
    {
     "data": {
      "text/html": [
       "<div>\n",
       "<style scoped>\n",
       "    .dataframe tbody tr th:only-of-type {\n",
       "        vertical-align: middle;\n",
       "    }\n",
       "\n",
       "    .dataframe tbody tr th {\n",
       "        vertical-align: top;\n",
       "    }\n",
       "\n",
       "    .dataframe thead th {\n",
       "        text-align: right;\n",
       "    }\n",
       "</style>\n",
       "<table border=\"1\" class=\"dataframe\">\n",
       "  <thead>\n",
       "    <tr style=\"text-align: right;\">\n",
       "      <th></th>\n",
       "      <th>Open</th>\n",
       "      <th>High</th>\n",
       "      <th>Low</th>\n",
       "      <th>Close</th>\n",
       "      <th>Adj Close</th>\n",
       "      <th>Volume</th>\n",
       "    </tr>\n",
       "    <tr>\n",
       "      <th>Datetime</th>\n",
       "      <th></th>\n",
       "      <th></th>\n",
       "      <th></th>\n",
       "      <th></th>\n",
       "      <th></th>\n",
       "      <th></th>\n",
       "    </tr>\n",
       "  </thead>\n",
       "  <tbody>\n",
       "    <tr>\n",
       "      <th>2023-05-22 09:30:00</th>\n",
       "      <td>173.979996</td>\n",
       "      <td>174.710007</td>\n",
       "      <td>173.649994</td>\n",
       "      <td>174.250000</td>\n",
       "      <td>174.250000</td>\n",
       "      <td>5363774</td>\n",
       "    </tr>\n",
       "    <tr>\n",
       "      <th>2023-05-22 09:45:00</th>\n",
       "      <td>174.225006</td>\n",
       "      <td>174.679993</td>\n",
       "      <td>173.985001</td>\n",
       "      <td>174.019897</td>\n",
       "      <td>174.019897</td>\n",
       "      <td>2494952</td>\n",
       "    </tr>\n",
       "  </tbody>\n",
       "</table>\n",
       "</div>"
      ],
      "text/plain": [
       "                           Open        High         Low       Close  \\\n",
       "Datetime                                                              \n",
       "2023-05-22 09:30:00  173.979996  174.710007  173.649994  174.250000   \n",
       "2023-05-22 09:45:00  174.225006  174.679993  173.985001  174.019897   \n",
       "\n",
       "                      Adj Close   Volume  \n",
       "Datetime                                  \n",
       "2023-05-22 09:30:00  174.250000  5363774  \n",
       "2023-05-22 09:45:00  174.019897  2494952  "
      ]
     },
     "execution_count": 33,
     "metadata": {},
     "output_type": "execute_result"
    }
   ],
   "source": [
    "dataF.head(2)"
   ]
  },
  {
   "cell_type": "code",
   "execution_count": 34,
   "id": "b5182fb9",
   "metadata": {},
   "outputs": [
    {
     "data": {
      "text/plain": [
       "(494, 6)"
      ]
     },
     "execution_count": 34,
     "metadata": {},
     "output_type": "execute_result"
    }
   ],
   "source": [
    "dataF.shape"
   ]
  },
  {
   "cell_type": "code",
   "execution_count": 35,
   "id": "28c87a62",
   "metadata": {},
   "outputs": [
    {
     "data": {
      "text/plain": [
       "Datetime\n",
       "2023-05-22 09:30:00    174.710007\n",
       "2023-05-22 09:45:00    174.679993\n",
       "                          ...    \n",
       "2023-06-16 15:30:00    185.100006\n",
       "2023-06-16 15:45:00    185.350006\n",
       "Name: High, Length: 494, dtype: float64"
      ]
     },
     "execution_count": 35,
     "metadata": {},
     "output_type": "execute_result"
    }
   ],
   "source": [
    "dataF.High"
   ]
  },
  {
   "cell_type": "code",
   "execution_count": 36,
   "id": "b68fee62",
   "metadata": {},
   "outputs": [
    {
     "data": {
      "text/plain": [
       "Index(['Open', 'High', 'Low', 'Close', 'Adj Close', 'Volume'], dtype='object')"
      ]
     },
     "execution_count": 36,
     "metadata": {},
     "output_type": "execute_result"
    }
   ],
   "source": [
    "dataF.columns"
   ]
  },
  {
   "cell_type": "code",
   "execution_count": 37,
   "id": "559bcd25",
   "metadata": {},
   "outputs": [
    {
     "data": {
      "text/html": [
       "<div>\n",
       "<style scoped>\n",
       "    .dataframe tbody tr th:only-of-type {\n",
       "        vertical-align: middle;\n",
       "    }\n",
       "\n",
       "    .dataframe tbody tr th {\n",
       "        vertical-align: top;\n",
       "    }\n",
       "\n",
       "    .dataframe thead th {\n",
       "        text-align: right;\n",
       "    }\n",
       "</style>\n",
       "<table border=\"1\" class=\"dataframe\">\n",
       "  <thead>\n",
       "    <tr style=\"text-align: right;\">\n",
       "      <th></th>\n",
       "      <th>Open</th>\n",
       "      <th>Close</th>\n",
       "    </tr>\n",
       "    <tr>\n",
       "      <th>Datetime</th>\n",
       "      <th></th>\n",
       "      <th></th>\n",
       "    </tr>\n",
       "  </thead>\n",
       "  <tbody>\n",
       "    <tr>\n",
       "      <th>2023-05-22 09:30:00</th>\n",
       "      <td>173.979996</td>\n",
       "      <td>174.250000</td>\n",
       "    </tr>\n",
       "    <tr>\n",
       "      <th>2023-05-22 09:45:00</th>\n",
       "      <td>174.225006</td>\n",
       "      <td>174.019897</td>\n",
       "    </tr>\n",
       "    <tr>\n",
       "      <th>...</th>\n",
       "      <td>...</td>\n",
       "      <td>...</td>\n",
       "    </tr>\n",
       "    <tr>\n",
       "      <th>2023-06-16 15:30:00</th>\n",
       "      <td>184.919998</td>\n",
       "      <td>184.737900</td>\n",
       "    </tr>\n",
       "    <tr>\n",
       "      <th>2023-06-16 15:45:00</th>\n",
       "      <td>184.735001</td>\n",
       "      <td>185.020004</td>\n",
       "    </tr>\n",
       "  </tbody>\n",
       "</table>\n",
       "<p>494 rows × 2 columns</p>\n",
       "</div>"
      ],
      "text/plain": [
       "                           Open       Close\n",
       "Datetime                                   \n",
       "2023-05-22 09:30:00  173.979996  174.250000\n",
       "2023-05-22 09:45:00  174.225006  174.019897\n",
       "...                         ...         ...\n",
       "2023-06-16 15:30:00  184.919998  184.737900\n",
       "2023-06-16 15:45:00  184.735001  185.020004\n",
       "\n",
       "[494 rows x 2 columns]"
      ]
     },
     "execution_count": 37,
     "metadata": {},
     "output_type": "execute_result"
    }
   ],
   "source": [
    "dataF[['Open', 'Close']]"
   ]
  },
  {
   "cell_type": "code",
   "execution_count": 38,
   "id": "8fb25fb6",
   "metadata": {},
   "outputs": [
    {
     "data": {
      "text/plain": [
       "Open         1.739800e+02\n",
       "High         1.747100e+02\n",
       "                 ...     \n",
       "Adj Close    1.742500e+02\n",
       "Volume       5.363774e+06\n",
       "Name: 2023-05-22 09:30:00, Length: 6, dtype: float64"
      ]
     },
     "execution_count": 38,
     "metadata": {},
     "output_type": "execute_result"
    }
   ],
   "source": [
    "dataF.iloc[0]"
   ]
  },
  {
   "cell_type": "code",
   "execution_count": 43,
   "id": "f9f9ab86",
   "metadata": {},
   "outputs": [
    {
     "data": {
      "text/html": [
       "<div>\n",
       "<style scoped>\n",
       "    .dataframe tbody tr th:only-of-type {\n",
       "        vertical-align: middle;\n",
       "    }\n",
       "\n",
       "    .dataframe tbody tr th {\n",
       "        vertical-align: top;\n",
       "    }\n",
       "\n",
       "    .dataframe thead th {\n",
       "        text-align: right;\n",
       "    }\n",
       "</style>\n",
       "<table border=\"1\" class=\"dataframe\">\n",
       "  <thead>\n",
       "    <tr style=\"text-align: right;\">\n",
       "      <th></th>\n",
       "      <th>Open</th>\n",
       "      <th>High</th>\n",
       "    </tr>\n",
       "    <tr>\n",
       "      <th>Datetime</th>\n",
       "      <th></th>\n",
       "      <th></th>\n",
       "    </tr>\n",
       "  </thead>\n",
       "  <tbody>\n",
       "    <tr>\n",
       "      <th>2023-05-22 09:30:00</th>\n",
       "      <td>173.979996</td>\n",
       "      <td>174.710007</td>\n",
       "    </tr>\n",
       "    <tr>\n",
       "      <th>2023-05-22 09:45:00</th>\n",
       "      <td>174.225006</td>\n",
       "      <td>174.679993</td>\n",
       "    </tr>\n",
       "    <tr>\n",
       "      <th>2023-05-22 10:00:00</th>\n",
       "      <td>174.014999</td>\n",
       "      <td>174.250000</td>\n",
       "    </tr>\n",
       "  </tbody>\n",
       "</table>\n",
       "</div>"
      ],
      "text/plain": [
       "                           Open        High\n",
       "Datetime                                   \n",
       "2023-05-22 09:30:00  173.979996  174.710007\n",
       "2023-05-22 09:45:00  174.225006  174.679993\n",
       "2023-05-22 10:00:00  174.014999  174.250000"
      ]
     },
     "execution_count": 43,
     "metadata": {},
     "output_type": "execute_result"
    }
   ],
   "source": [
    "dataF.iloc[0:3,[0, 1]]"
   ]
  }
 ],
 "metadata": {
  "kernelspec": {
   "display_name": "Python 3 (ipykernel)",
   "language": "python",
   "name": "python3"
  },
  "language_info": {
   "codemirror_mode": {
    "name": "ipython",
    "version": 3
   },
   "file_extension": ".py",
   "mimetype": "text/x-python",
   "name": "python",
   "nbconvert_exporter": "python",
   "pygments_lexer": "ipython3",
   "version": "3.9.13"
  }
 },
 "nbformat": 4,
 "nbformat_minor": 5
}
